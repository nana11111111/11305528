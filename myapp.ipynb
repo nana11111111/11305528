{
 "cells": [
  {
   "cell_type": "markdown",
   "id": "e6184705-20b9-4c45-8693-27e1bc528216",
   "metadata": {},
   "source": [
    "NAME : NANA FOSU ASAMOAH\n",
    "ID : 11305528\n",
    "DEPARTMENT : CPEN"
   ]
  },
  {
   "cell_type": "code",
   "execution_count": null,
   "id": "9bf68d62-1ac8-483d-bf84-67b63492f9b5",
   "metadata": {},
   "outputs": [],
   "source": [
    "import pandas as pd\n",
    "import matplotlib as plt\n",
    "import numpy as np"
   ]
  },
  {
   "cell_type": "code",
   "execution_count": 59,
   "id": "fb66d745-121f-4275-83d6-b7c4ea2c24d0",
   "metadata": {},
   "outputs": [
    {
     "name": "stdout",
     "output_type": "stream",
     "text": [
      "First 10 rows:\n",
      "   fixed acidity  volatile acidity  citric acid  residual sugar  chlorides  \\\n",
      "0            7.4              0.70         0.00             1.9      0.076   \n",
      "1            7.8              0.88         0.00             2.6      0.098   \n",
      "2            7.8              0.76         0.04             2.3      0.092   \n",
      "3           11.2              0.28         0.56             1.9      0.075   \n",
      "4            7.4              0.70         0.00             1.9      0.076   \n",
      "5            7.4              0.66         0.00             1.8      0.075   \n",
      "6            7.9              0.60         0.06             1.6        NaN   \n",
      "7            7.3              0.65         0.00             1.2      0.065   \n",
      "8            7.8              0.58         0.02             2.0      0.073   \n",
      "9            7.5              0.50         0.36             6.1      0.071   \n",
      "\n",
      "   free sulfur dioxide  total sulfur dioxide  density    pH  sulphates  \\\n",
      "0                 11.0                  34.0   0.9978  3.51       0.56   \n",
      "1                 25.0                  67.0   0.9968  3.20       0.68   \n",
      "2                 15.0                  54.0   0.9970  3.26       0.65   \n",
      "3                 17.0                  60.0   0.9980  3.16       0.58   \n",
      "4                 11.0                  34.0   0.9978  3.51       0.56   \n",
      "5                 13.0                  40.0   0.9978  3.51       0.56   \n",
      "6                 15.0                  59.0   0.9964  3.30       0.46   \n",
      "7                 15.0                  21.0   0.9946  3.39       0.47   \n",
      "8                  9.0                  18.0   0.9968  3.36       0.57   \n",
      "9                 17.0                 102.0   0.9978  3.35       0.80   \n",
      "\n",
      "   alcohol  quality  \n",
      "0      9.4      5.0  \n",
      "1      9.8      5.0  \n",
      "2      9.8      5.0  \n",
      "3      9.8      6.0  \n",
      "4      9.4      5.0  \n",
      "5      9.4      5.0  \n",
      "6      9.4      5.0  \n",
      "7     10.0      7.0  \n",
      "8      9.5      7.0  \n",
      "9     10.5      5.0  \n"
     ]
    }
   ],
   "source": [
    "print(\"First 10 rows:\")\n",
    "print(dataset.head(10))\n",
    "# the head method displays the first 5 rows of the dataframe\n",
    "#data.head(10)--- to show first 10 rows-----thus by specification"
   ]
  },
  {
   "cell_type": "code",
   "execution_count": 60,
   "id": "b5f68f1b-4d0d-4590-b8b1-b483437e7969",
   "metadata": {},
   "outputs": [
    {
     "name": "stdout",
     "output_type": "stream",
     "text": [
      "\n",
      "Last 20 rows:\n",
      "      fixed acidity  volatile acidity  citric acid  residual sugar  chlorides  \\\n",
      "1579            6.2             0.560         0.09             1.7      0.053   \n",
      "1580            7.4             0.350         0.33             2.4      0.068   \n",
      "1581            6.2             0.560         0.09             1.7      0.053   \n",
      "1582            6.1             0.715         0.10             2.6      0.053   \n",
      "1583            6.2             0.460         0.29             2.1      0.074   \n",
      "1584            6.7             0.320         0.44             2.4      0.061   \n",
      "1585            7.2             0.390         0.44             2.6      0.066   \n",
      "1586            7.5             0.310         0.41             2.4      0.065   \n",
      "1587            5.8             0.610         0.11             1.8      0.066   \n",
      "1588            7.2             0.660         0.33             2.5      0.068   \n",
      "1589            6.6             0.725         0.20             7.8      0.073   \n",
      "1590            6.3             0.550         0.15             1.8      0.077   \n",
      "1591            5.4             0.740         0.09             1.7      0.089   \n",
      "1592            6.3             0.510         0.13             2.3      0.076   \n",
      "1593            6.8             0.620         0.08             1.9      0.068   \n",
      "1594            6.2             0.600         0.08             2.0      0.090   \n",
      "1595            5.9             0.550         0.10             2.2      0.062   \n",
      "1596            6.3             0.510         0.13             2.3      0.076   \n",
      "1597            5.9             0.645         0.12             2.0      0.075   \n",
      "1598            6.0             0.310         0.47             3.6      0.067   \n",
      "\n",
      "      free sulfur dioxide  total sulfur dioxide  density    pH  sulphates  \\\n",
      "1579                 24.0                  32.0  0.99402  3.54       0.60   \n",
      "1580                  9.0                  26.0  0.99470  3.36       0.60   \n",
      "1581                 24.0                  32.0  0.99402  3.54       0.60   \n",
      "1582                 13.0                  27.0  0.99362  3.57       0.50   \n",
      "1583                 32.0                  98.0  0.99578  3.33       0.62   \n",
      "1584                 24.0                  34.0  0.99484  3.29       0.80   \n",
      "1585                 22.0                  48.0  0.99494  3.30       0.84   \n",
      "1586                 34.0                  60.0  0.99492  3.34       0.85   \n",
      "1587                 18.0                  28.0  0.99483  3.55       0.66   \n",
      "1588                 34.0                 102.0  0.99414  3.27       0.78   \n",
      "1589                 29.0                  79.0  0.99770  3.29       0.54   \n",
      "1590                 26.0                  35.0  0.99314  3.32       0.82   \n",
      "1591                 16.0                  26.0  0.99402  3.67       0.56   \n",
      "1592                 29.0                  40.0  0.99574  3.42       0.75   \n",
      "1593                 28.0                  38.0  0.99651  3.42       0.82   \n",
      "1594                 32.0                  44.0  0.99490  3.45       0.58   \n",
      "1595                 39.0                  51.0  0.99512  3.52       0.76   \n",
      "1596                 29.0                  40.0  0.99574  3.42       0.75   \n",
      "1597                 32.0                  44.0  0.99547  3.57       0.71   \n",
      "1598                 18.0                  42.0  0.99549  3.39       0.66   \n",
      "\n",
      "      alcohol  quality  \n",
      "1579     11.3      5.0  \n",
      "1580     11.9      6.0  \n",
      "1581     11.3      5.0  \n",
      "1582     11.9      5.0  \n",
      "1583      9.8      5.0  \n",
      "1584     11.6      7.0  \n",
      "1585     11.5      6.0  \n",
      "1586     11.4      6.0  \n",
      "1587     10.9      6.0  \n",
      "1588     12.8      6.0  \n",
      "1589      9.2      5.0  \n",
      "1590     11.6      6.0  \n",
      "1591     11.6      6.0  \n",
      "1592     11.0      6.0  \n",
      "1593      9.5      6.0  \n",
      "1594     10.5      5.0  \n",
      "1595     11.2      6.0  \n",
      "1596     11.0      6.0  \n",
      "1597     10.2      5.0  \n",
      "1598     11.0      6.0  \n"
     ]
    }
   ],
   "source": [
    "print(\"\\nLast 20 rows:\")\n",
    "print(dataset.tail(20))\n",
    "# data.tail() --- by default returns the last five rows of the data\n",
    "# but can be changed by specification as shown above\n",
    "# eg. data.tail(10)--- to show last 10 rows"
   ]
  },
  {
   "cell_type": "code",
   "execution_count": 61,
   "id": "3524218f-f3c3-460c-b751-976335fe7c6c",
   "metadata": {},
   "outputs": [
    {
     "name": "stdout",
     "output_type": "stream",
     "text": [
      "\n",
      "Dataset Information:\n",
      "<class 'pandas.core.frame.DataFrame'>\n",
      "RangeIndex: 1599 entries, 0 to 1598\n",
      "Data columns (total 12 columns):\n",
      " #   Column                Non-Null Count  Dtype  \n",
      "---  ------                --------------  -----  \n",
      " 0   fixed acidity         1598 non-null   float64\n",
      " 1   volatile acidity      1598 non-null   float64\n",
      " 2   citric acid           1599 non-null   float64\n",
      " 3   residual sugar        1599 non-null   float64\n",
      " 4   chlorides             1595 non-null   float64\n",
      " 5   free sulfur dioxide   1598 non-null   float64\n",
      " 6   total sulfur dioxide  1599 non-null   float64\n",
      " 7   density               1598 non-null   float64\n",
      " 8   pH                    1599 non-null   float64\n",
      " 9   sulphates             1599 non-null   float64\n",
      " 10  alcohol               1599 non-null   float64\n",
      " 11  quality               1598 non-null   float64\n",
      "dtypes: float64(12)\n",
      "memory usage: 150.0 KB\n",
      "None\n"
     ]
    }
   ],
   "source": [
    "print(\"\\nDataset Information:\")\n",
    "print(dataset.info())\n",
    "# data info --- refers to  the data size or structure"
   ]
  },
  {
   "cell_type": "markdown",
   "id": "2f1187e1-dc34-454a-82a0-c24fcc59e06d",
   "metadata": {},
   "source": [
    "Removes all null values --- dropna method"
   ]
  },
  {
   "cell_type": "code",
   "execution_count": 62,
   "id": "001696df-be7d-4c83-84df-87384eff8cb4",
   "metadata": {},
   "outputs": [],
   "source": [
    "# the dropna() method removes all null values from the dataset"
   ]
  },
  {
   "cell_type": "markdown",
   "id": "a8b30b23-f658-4bb5-b62a-2eabb800d661",
   "metadata": {},
   "source": [
    "Fillna method fills the null set with data based on your command"
   ]
  },
  {
   "cell_type": "code",
   "execution_count": 63,
   "id": "1b4dd530-14f8-4771-a0dd-241ce22bd543",
   "metadata": {},
   "outputs": [],
   "source": [
    "# A = original_dataset['fixed acidity'].mean() \n",
    "# original_dataset['fixed acidity']=original_dataset['fixed acidity'].fillna(A)\n",
    "# so with this it fills the null sets in the fixed acidity with the mean of all the fixed acidities"
   ]
  },
  {
   "cell_type": "code",
   "execution_count": 64,
   "id": "a3ae20ac-e124-46b4-adeb-4bd387e026f7",
   "metadata": {},
   "outputs": [
    {
     "data": {
      "text/html": [
       "<div>\n",
       "<style scoped>\n",
       "    .dataframe tbody tr th:only-of-type {\n",
       "        vertical-align: middle;\n",
       "    }\n",
       "\n",
       "    .dataframe tbody tr th {\n",
       "        vertical-align: top;\n",
       "    }\n",
       "\n",
       "    .dataframe thead th {\n",
       "        text-align: right;\n",
       "    }\n",
       "</style>\n",
       "<table border=\"1\" class=\"dataframe\">\n",
       "  <thead>\n",
       "    <tr style=\"text-align: right;\">\n",
       "      <th></th>\n",
       "      <th>fixed acidity</th>\n",
       "      <th>volatile acidity</th>\n",
       "      <th>citric acid</th>\n",
       "      <th>residual sugar</th>\n",
       "      <th>chlorides</th>\n",
       "      <th>free sulfur dioxide</th>\n",
       "      <th>total sulfur dioxide</th>\n",
       "      <th>density</th>\n",
       "      <th>pH</th>\n",
       "      <th>sulphates</th>\n",
       "      <th>alcohol</th>\n",
       "      <th>quality</th>\n",
       "    </tr>\n",
       "  </thead>\n",
       "  <tbody>\n",
       "    <tr>\n",
       "      <th>0</th>\n",
       "      <td>7.4</td>\n",
       "      <td>0.700</td>\n",
       "      <td>0.00</td>\n",
       "      <td>1.9</td>\n",
       "      <td>0.076</td>\n",
       "      <td>11.0</td>\n",
       "      <td>34.0</td>\n",
       "      <td>0.99780</td>\n",
       "      <td>3.51</td>\n",
       "      <td>0.56</td>\n",
       "      <td>9.4</td>\n",
       "      <td>5.0</td>\n",
       "    </tr>\n",
       "    <tr>\n",
       "      <th>1</th>\n",
       "      <td>7.8</td>\n",
       "      <td>0.880</td>\n",
       "      <td>0.00</td>\n",
       "      <td>2.6</td>\n",
       "      <td>0.098</td>\n",
       "      <td>25.0</td>\n",
       "      <td>67.0</td>\n",
       "      <td>0.99680</td>\n",
       "      <td>3.20</td>\n",
       "      <td>0.68</td>\n",
       "      <td>9.8</td>\n",
       "      <td>5.0</td>\n",
       "    </tr>\n",
       "    <tr>\n",
       "      <th>2</th>\n",
       "      <td>7.8</td>\n",
       "      <td>0.760</td>\n",
       "      <td>0.04</td>\n",
       "      <td>2.3</td>\n",
       "      <td>0.092</td>\n",
       "      <td>15.0</td>\n",
       "      <td>54.0</td>\n",
       "      <td>0.99700</td>\n",
       "      <td>3.26</td>\n",
       "      <td>0.65</td>\n",
       "      <td>9.8</td>\n",
       "      <td>5.0</td>\n",
       "    </tr>\n",
       "    <tr>\n",
       "      <th>3</th>\n",
       "      <td>11.2</td>\n",
       "      <td>0.280</td>\n",
       "      <td>0.56</td>\n",
       "      <td>1.9</td>\n",
       "      <td>0.075</td>\n",
       "      <td>17.0</td>\n",
       "      <td>60.0</td>\n",
       "      <td>0.99800</td>\n",
       "      <td>3.16</td>\n",
       "      <td>0.58</td>\n",
       "      <td>9.8</td>\n",
       "      <td>6.0</td>\n",
       "    </tr>\n",
       "    <tr>\n",
       "      <th>4</th>\n",
       "      <td>7.4</td>\n",
       "      <td>0.700</td>\n",
       "      <td>0.00</td>\n",
       "      <td>1.9</td>\n",
       "      <td>0.076</td>\n",
       "      <td>11.0</td>\n",
       "      <td>34.0</td>\n",
       "      <td>0.99780</td>\n",
       "      <td>3.51</td>\n",
       "      <td>0.56</td>\n",
       "      <td>9.4</td>\n",
       "      <td>5.0</td>\n",
       "    </tr>\n",
       "    <tr>\n",
       "      <th>...</th>\n",
       "      <td>...</td>\n",
       "      <td>...</td>\n",
       "      <td>...</td>\n",
       "      <td>...</td>\n",
       "      <td>...</td>\n",
       "      <td>...</td>\n",
       "      <td>...</td>\n",
       "      <td>...</td>\n",
       "      <td>...</td>\n",
       "      <td>...</td>\n",
       "      <td>...</td>\n",
       "      <td>...</td>\n",
       "    </tr>\n",
       "    <tr>\n",
       "      <th>1594</th>\n",
       "      <td>6.2</td>\n",
       "      <td>0.600</td>\n",
       "      <td>0.08</td>\n",
       "      <td>2.0</td>\n",
       "      <td>0.090</td>\n",
       "      <td>32.0</td>\n",
       "      <td>44.0</td>\n",
       "      <td>0.99490</td>\n",
       "      <td>3.45</td>\n",
       "      <td>0.58</td>\n",
       "      <td>10.5</td>\n",
       "      <td>5.0</td>\n",
       "    </tr>\n",
       "    <tr>\n",
       "      <th>1595</th>\n",
       "      <td>5.9</td>\n",
       "      <td>0.550</td>\n",
       "      <td>0.10</td>\n",
       "      <td>2.2</td>\n",
       "      <td>0.062</td>\n",
       "      <td>39.0</td>\n",
       "      <td>51.0</td>\n",
       "      <td>0.99512</td>\n",
       "      <td>3.52</td>\n",
       "      <td>0.76</td>\n",
       "      <td>11.2</td>\n",
       "      <td>6.0</td>\n",
       "    </tr>\n",
       "    <tr>\n",
       "      <th>1596</th>\n",
       "      <td>6.3</td>\n",
       "      <td>0.510</td>\n",
       "      <td>0.13</td>\n",
       "      <td>2.3</td>\n",
       "      <td>0.076</td>\n",
       "      <td>29.0</td>\n",
       "      <td>40.0</td>\n",
       "      <td>0.99574</td>\n",
       "      <td>3.42</td>\n",
       "      <td>0.75</td>\n",
       "      <td>11.0</td>\n",
       "      <td>6.0</td>\n",
       "    </tr>\n",
       "    <tr>\n",
       "      <th>1597</th>\n",
       "      <td>5.9</td>\n",
       "      <td>0.645</td>\n",
       "      <td>0.12</td>\n",
       "      <td>2.0</td>\n",
       "      <td>0.075</td>\n",
       "      <td>32.0</td>\n",
       "      <td>44.0</td>\n",
       "      <td>0.99547</td>\n",
       "      <td>3.57</td>\n",
       "      <td>0.71</td>\n",
       "      <td>10.2</td>\n",
       "      <td>5.0</td>\n",
       "    </tr>\n",
       "    <tr>\n",
       "      <th>1598</th>\n",
       "      <td>6.0</td>\n",
       "      <td>0.310</td>\n",
       "      <td>0.47</td>\n",
       "      <td>3.6</td>\n",
       "      <td>0.067</td>\n",
       "      <td>18.0</td>\n",
       "      <td>42.0</td>\n",
       "      <td>0.99549</td>\n",
       "      <td>3.39</td>\n",
       "      <td>0.66</td>\n",
       "      <td>11.0</td>\n",
       "      <td>6.0</td>\n",
       "    </tr>\n",
       "  </tbody>\n",
       "</table>\n",
       "<p>1590 rows × 12 columns</p>\n",
       "</div>"
      ],
      "text/plain": [
       "      fixed acidity  volatile acidity  citric acid  residual sugar  chlorides  \\\n",
       "0               7.4             0.700         0.00             1.9      0.076   \n",
       "1               7.8             0.880         0.00             2.6      0.098   \n",
       "2               7.8             0.760         0.04             2.3      0.092   \n",
       "3              11.2             0.280         0.56             1.9      0.075   \n",
       "4               7.4             0.700         0.00             1.9      0.076   \n",
       "...             ...               ...          ...             ...        ...   \n",
       "1594            6.2             0.600         0.08             2.0      0.090   \n",
       "1595            5.9             0.550         0.10             2.2      0.062   \n",
       "1596            6.3             0.510         0.13             2.3      0.076   \n",
       "1597            5.9             0.645         0.12             2.0      0.075   \n",
       "1598            6.0             0.310         0.47             3.6      0.067   \n",
       "\n",
       "      free sulfur dioxide  total sulfur dioxide  density    pH  sulphates  \\\n",
       "0                    11.0                  34.0  0.99780  3.51       0.56   \n",
       "1                    25.0                  67.0  0.99680  3.20       0.68   \n",
       "2                    15.0                  54.0  0.99700  3.26       0.65   \n",
       "3                    17.0                  60.0  0.99800  3.16       0.58   \n",
       "4                    11.0                  34.0  0.99780  3.51       0.56   \n",
       "...                   ...                   ...      ...   ...        ...   \n",
       "1594                 32.0                  44.0  0.99490  3.45       0.58   \n",
       "1595                 39.0                  51.0  0.99512  3.52       0.76   \n",
       "1596                 29.0                  40.0  0.99574  3.42       0.75   \n",
       "1597                 32.0                  44.0  0.99547  3.57       0.71   \n",
       "1598                 18.0                  42.0  0.99549  3.39       0.66   \n",
       "\n",
       "      alcohol  quality  \n",
       "0         9.4      5.0  \n",
       "1         9.8      5.0  \n",
       "2         9.8      5.0  \n",
       "3         9.8      6.0  \n",
       "4         9.4      5.0  \n",
       "...       ...      ...  \n",
       "1594     10.5      5.0  \n",
       "1595     11.2      6.0  \n",
       "1596     11.0      6.0  \n",
       "1597     10.2      5.0  \n",
       "1598     11.0      6.0  \n",
       "\n",
       "[1590 rows x 12 columns]"
      ]
     },
     "execution_count": 64,
     "metadata": {},
     "output_type": "execute_result"
    }
   ],
   "source": [
    "complete_data = dataset.dropna()\n",
    "complete_data"
   ]
  },
  {
   "cell_type": "code",
   "execution_count": 65,
   "id": "f7c7d196-8ca3-49fc-a57c-0f24b2eea106",
   "metadata": {},
   "outputs": [
    {
     "name": "stdout",
     "output_type": "stream",
     "text": [
      "\n",
      "Statistical Information:\n",
      "       fixed acidity  volatile acidity  citric acid  residual sugar  \\\n",
      "count    1598.000000       1598.000000  1599.000000     1599.000000   \n",
      "mean        8.318335          0.527747     0.270976        2.538806   \n",
      "std         1.740863          0.179092     0.194801        1.409928   \n",
      "min         4.600000          0.120000     0.000000        0.900000   \n",
      "25%         7.100000          0.390000     0.090000        1.900000   \n",
      "50%         7.900000          0.520000     0.260000        2.200000   \n",
      "75%         9.200000          0.640000     0.420000        2.600000   \n",
      "max        15.900000          1.580000     1.000000       15.500000   \n",
      "\n",
      "         chlorides  free sulfur dioxide  total sulfur dioxide      density  \\\n",
      "count  1595.000000          1598.000000           1599.000000  1598.000000   \n",
      "mean      0.087476            15.867334             46.467792     0.996746   \n",
      "std       0.047117            10.459029             32.895324     0.001887   \n",
      "min       0.012000             1.000000              6.000000     0.990070   \n",
      "25%       0.070000             7.000000             22.000000     0.995600   \n",
      "50%       0.079000            14.000000             38.000000     0.996750   \n",
      "75%       0.090000            21.000000             62.000000     0.997830   \n",
      "max       0.611000            72.000000            289.000000     1.003690   \n",
      "\n",
      "                pH    sulphates      alcohol      quality  \n",
      "count  1599.000000  1599.000000  1599.000000  1598.000000  \n",
      "mean      3.311113     0.658149    10.422983     5.635795  \n",
      "std       0.154386     0.169507     1.065668     0.807771  \n",
      "min       2.740000     0.330000     8.400000     3.000000  \n",
      "25%       3.210000     0.550000     9.500000     5.000000  \n",
      "50%       3.310000     0.620000    10.200000     6.000000  \n",
      "75%       3.400000     0.730000    11.100000     6.000000  \n",
      "max       4.010000     2.000000    14.900000     8.000000  \n"
     ]
    }
   ],
   "source": [
    "print(\"\\nStatistical Information:\")\n",
    "print(dataset.describe())"
   ]
  },
  {
   "cell_type": "markdown",
   "id": "b721e322-ea10-442c-bab0-7c3b3cd3c4c9",
   "metadata": {},
   "source": [
    "Replacing null values with mean"
   ]
  },
  {
   "cell_type": "code",
   "execution_count": 66,
   "id": "8f7151b5-0504-43f2-bb4b-3b552fcd9085",
   "metadata": {},
   "outputs": [],
   "source": [
    "original_dataset = dataset"
   ]
  },
  {
   "cell_type": "code",
   "execution_count": 67,
   "id": "c5f54e75-b240-4abe-853e-a52d121c13a3",
   "metadata": {},
   "outputs": [],
   "source": [
    "original_dataset = pd.read_csv('red_wine.csv')"
   ]
  },
  {
   "cell_type": "code",
   "execution_count": 68,
   "id": "3a51cf3a-0bc4-478b-bf98-2cc43d68a808",
   "metadata": {},
   "outputs": [],
   "source": [
    "A = original_dataset['fixed acidity'].mean()"
   ]
  },
  {
   "cell_type": "code",
   "execution_count": 69,
   "id": "38a29f7b-6cfd-4d86-921a-341df447b8da",
   "metadata": {},
   "outputs": [],
   "source": [
    "B = original_dataset['volatile acidity'].mean()"
   ]
  },
  {
   "cell_type": "code",
   "execution_count": 70,
   "id": "04fdf499-d84c-44a5-9dc8-0b7c05c92557",
   "metadata": {},
   "outputs": [],
   "source": [
    "C = original_dataset['chlorides'].mean()"
   ]
  },
  {
   "cell_type": "code",
   "execution_count": 71,
   "id": "046e5be4-528d-4ce8-a633-40d981660a22",
   "metadata": {},
   "outputs": [],
   "source": [
    "D = original_dataset['free sulfur dioxide'].mean()"
   ]
  },
  {
   "cell_type": "code",
   "execution_count": 72,
   "id": "27b83939-134f-40b2-8160-166a640e3ee8",
   "metadata": {},
   "outputs": [],
   "source": [
    "E = original_dataset['density'].mean()"
   ]
  },
  {
   "cell_type": "code",
   "execution_count": 73,
   "id": "9bcb6d3c-61b9-4a20-8188-32b1fbe475b8",
   "metadata": {},
   "outputs": [],
   "source": [
    "F = original_dataset['quality'].mean()"
   ]
  },
  {
   "cell_type": "code",
   "execution_count": 74,
   "id": "ee644301-a32a-493a-a955-3d0a77e079f5",
   "metadata": {},
   "outputs": [],
   "source": [
    "original_dataset['fixed acidity']=original_dataset['fixed acidity'].fillna(A)"
   ]
  },
  {
   "cell_type": "code",
   "execution_count": 75,
   "id": "6edf379a-5eb9-4ea0-9fa8-38bfda760aa1",
   "metadata": {},
   "outputs": [],
   "source": [
    "original_dataset['volatile acidity']=original_dataset['volatile acidity'].fillna(B)"
   ]
  },
  {
   "cell_type": "code",
   "execution_count": 76,
   "id": "842bd26c-967a-4d57-ac64-07d334a7008e",
   "metadata": {},
   "outputs": [],
   "source": [
    "original_dataset['chlorides']=original_dataset['chlorides'].fillna(C)"
   ]
  },
  {
   "cell_type": "code",
   "execution_count": 77,
   "id": "039f3109-951e-44ff-80e3-30adb0d82dd4",
   "metadata": {},
   "outputs": [],
   "source": [
    "original_dataset['free sulfur dioxide']= original_dataset['free sulfur dioxide'].fillna(D)"
   ]
  },
  {
   "cell_type": "code",
   "execution_count": 78,
   "id": "1791c0b1-0d2c-459e-bef7-6e84b174b9d3",
   "metadata": {},
   "outputs": [],
   "source": [
    "original_dataset['density']= original_dataset['density'].fillna(E)"
   ]
  },
  {
   "cell_type": "code",
   "execution_count": 79,
   "id": "7c65fd00-191c-452f-9dcc-eb057ee22708",
   "metadata": {},
   "outputs": [],
   "source": [
    "original_dataset['quality']=original_dataset['quality'].fillna(F)"
   ]
  },
  {
   "cell_type": "code",
   "execution_count": 80,
   "id": "0649e6d9-237c-41a1-bc2b-42a66858cf07",
   "metadata": {},
   "outputs": [
    {
     "name": "stdout",
     "output_type": "stream",
     "text": [
      "<class 'pandas.core.frame.DataFrame'>\n",
      "RangeIndex: 1599 entries, 0 to 1598\n",
      "Data columns (total 12 columns):\n",
      " #   Column                Non-Null Count  Dtype  \n",
      "---  ------                --------------  -----  \n",
      " 0   fixed acidity         1599 non-null   float64\n",
      " 1   volatile acidity      1599 non-null   float64\n",
      " 2   citric acid           1599 non-null   float64\n",
      " 3   residual sugar        1599 non-null   float64\n",
      " 4   chlorides             1599 non-null   float64\n",
      " 5   free sulfur dioxide   1599 non-null   float64\n",
      " 6   total sulfur dioxide  1599 non-null   float64\n",
      " 7   density               1599 non-null   float64\n",
      " 8   pH                    1599 non-null   float64\n",
      " 9   sulphates             1599 non-null   float64\n",
      " 10  alcohol               1599 non-null   float64\n",
      " 11  quality               1599 non-null   float64\n",
      "dtypes: float64(12)\n",
      "memory usage: 150.0 KB\n"
     ]
    }
   ],
   "source": [
    "original_dataset.info()"
   ]
  },
  {
   "cell_type": "code",
   "execution_count": 81,
   "id": "f6d9ab54-2de3-4eec-af88-0f186a2d6072",
   "metadata": {},
   "outputs": [
    {
     "ename": "AttributeError",
     "evalue": "module 'matplotlib' has no attribute 'plot'",
     "output_type": "error",
     "traceback": [
      "\u001b[1;31m---------------------------------------------------------------------------\u001b[0m",
      "\u001b[1;31mAttributeError\u001b[0m                            Traceback (most recent call last)",
      "Cell \u001b[1;32mIn[81], line 2\u001b[0m\n\u001b[0;32m      1\u001b[0m graph \u001b[38;5;241m=\u001b[39m original_dataset[[\u001b[38;5;124m'\u001b[39m\u001b[38;5;124mfixed acidity\u001b[39m\u001b[38;5;124m'\u001b[39m, \u001b[38;5;124m'\u001b[39m\u001b[38;5;124mvolatile acidity\u001b[39m\u001b[38;5;124m'\u001b[39m, \u001b[38;5;124m'\u001b[39m\u001b[38;5;124mcitric acid\u001b[39m\u001b[38;5;124m'\u001b[39m, \u001b[38;5;124m'\u001b[39m\u001b[38;5;124mresidual sugar\u001b[39m\u001b[38;5;124m'\u001b[39m, \u001b[38;5;124m'\u001b[39m\u001b[38;5;124mchlorides\u001b[39m\u001b[38;5;124m'\u001b[39m, \u001b[38;5;124m'\u001b[39m\u001b[38;5;124mfree sulfur dioxide\u001b[39m\u001b[38;5;124m'\u001b[39m, \u001b[38;5;124m'\u001b[39m\u001b[38;5;124mtotal sulfur dioxide\u001b[39m\u001b[38;5;124m'\u001b[39m, \u001b[38;5;124m'\u001b[39m\u001b[38;5;124mdensity\u001b[39m\u001b[38;5;124m'\u001b[39m, \u001b[38;5;124m'\u001b[39m\u001b[38;5;124mpH\u001b[39m\u001b[38;5;124m'\u001b[39m, \u001b[38;5;124m'\u001b[39m\u001b[38;5;124msulphates\u001b[39m\u001b[38;5;124m'\u001b[39m, \u001b[38;5;124m'\u001b[39m\u001b[38;5;124malcohol\u001b[39m\u001b[38;5;124m'\u001b[39m, \u001b[38;5;124m'\u001b[39m\u001b[38;5;124mquality\u001b[39m\u001b[38;5;124m'\u001b[39m]]\n\u001b[1;32m----> 2\u001b[0m \u001b[43mplt\u001b[49m\u001b[38;5;241;43m.\u001b[39;49m\u001b[43mplot\u001b[49m(graph)\n",
      "File \u001b[1;32m~\\AppData\\Local\\Programs\\Python\\Python312\\Lib\\site-packages\\matplotlib\\_api\\__init__.py:217\u001b[0m, in \u001b[0;36mcaching_module_getattr.<locals>.__getattr__\u001b[1;34m(name)\u001b[0m\n\u001b[0;32m    215\u001b[0m \u001b[38;5;28;01mif\u001b[39;00m name \u001b[38;5;129;01min\u001b[39;00m props:\n\u001b[0;32m    216\u001b[0m     \u001b[38;5;28;01mreturn\u001b[39;00m props[name]\u001b[38;5;241m.\u001b[39m\u001b[38;5;21m__get__\u001b[39m(instance)\n\u001b[1;32m--> 217\u001b[0m \u001b[38;5;28;01mraise\u001b[39;00m \u001b[38;5;167;01mAttributeError\u001b[39;00m(\n\u001b[0;32m    218\u001b[0m     \u001b[38;5;124mf\u001b[39m\u001b[38;5;124m\"\u001b[39m\u001b[38;5;124mmodule \u001b[39m\u001b[38;5;132;01m{\u001b[39;00m\u001b[38;5;28mcls\u001b[39m\u001b[38;5;241m.\u001b[39m\u001b[38;5;18m__module__\u001b[39m\u001b[38;5;132;01m!r}\u001b[39;00m\u001b[38;5;124m has no attribute \u001b[39m\u001b[38;5;132;01m{\u001b[39;00mname\u001b[38;5;132;01m!r}\u001b[39;00m\u001b[38;5;124m\"\u001b[39m)\n",
      "\u001b[1;31mAttributeError\u001b[0m: module 'matplotlib' has no attribute 'plot'"
     ]
    }
   ],
   "source": [
    "graph = original_dataset[['fixed acidity', 'volatile acidity', 'citric acid', 'residual sugar', 'chlorides', 'free sulfur dioxide', 'total sulfur dioxide', 'density', 'pH', 'sulphates', 'alcohol', 'quality']]\n",
    "plt.plot(graph)"
   ]
  }
 ],
 "metadata": {
  "kernelspec": {
   "display_name": "Python 3 (ipykernel)",
   "language": "python",
   "name": "python3"
  },
  "language_info": {
   "codemirror_mode": {
    "name": "ipython",
    "version": 3
   },
   "file_extension": ".py",
   "mimetype": "text/x-python",
   "name": "python",
   "nbconvert_exporter": "python",
   "pygments_lexer": "ipython3",
   "version": "3.12.1"
  }
 },
 "nbformat": 4,
 "nbformat_minor": 5
}
